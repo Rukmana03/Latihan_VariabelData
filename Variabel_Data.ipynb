{
 "cells": [
  {
   "cell_type": "code",
   "execution_count": 5,
   "id": "9d1d7953",
   "metadata": {},
   "outputs": [
    {
     "name": "stdout",
     "output_type": "stream",
     "text": [
      "nama: Bintang Rukmana\n",
      "usia: 19\n",
      "sudah menikah: False\n",
      "Hobby: Basket\n"
     ]
    }
   ],
   "source": [
    "nama = 'Bintang Rukmana'\n",
    "usia = 19\n",
    "sudah_menikah = False\n",
    "Hobby = 'Basket'\n",
    "print('nama:', nama)\n",
    "print('usia:', usia)\n",
    "print('sudah menikah:', sudah_menikah)\n",
    "print('Hobby:', Hobby)"
   ]
  },
  {
   "cell_type": "code",
   "execution_count": 6,
   "id": "da7d0c21",
   "metadata": {},
   "outputs": [
    {
     "name": "stdout",
     "output_type": "stream",
     "text": [
      "a: 1\n",
      "b: 2\n",
      "c: Mantap\n"
     ]
    }
   ],
   "source": [
    "a, b, c = 1, 2, \"Mantap\"\n",
    "\n",
    "print('a:', a)\n",
    "print('b:', b)\n",
    "print('c:', c)"
   ]
  },
  {
   "cell_type": "code",
   "execution_count": 7,
   "id": "c6554117",
   "metadata": {},
   "outputs": [
    {
     "name": "stdout",
     "output_type": "stream",
     "text": [
      "d: 10\n",
      "e: 10\n",
      "f: 10\n"
     ]
    }
   ],
   "source": [
    "d = e = f = 10\n",
    "\n",
    "print('d:', d)\n",
    "print('e:', e)\n",
    "print('f:', f)"
   ]
  },
  {
   "cell_type": "code",
   "execution_count": 8,
   "id": "ecff0839",
   "metadata": {},
   "outputs": [
    {
     "name": "stdout",
     "output_type": "stream",
     "text": [
      "<class 'str'>\n",
      "<class 'int'>\n"
     ]
    }
   ],
   "source": [
    "a = 'Sukabumi'\n",
    "b = 37\n",
    "\n",
    "print(type(a))\n",
    "print(type(b))"
   ]
  },
  {
   "cell_type": "code",
   "execution_count": 10,
   "id": "a782a85b",
   "metadata": {},
   "outputs": [
    {
     "name": "stdout",
     "output_type": "stream",
     "text": [
      "5 * 10.5 = 52.5\n",
      "Tipe dari variable panjang: <class 'int'>\n",
      "Tipe dari variable lebar: <class 'float'>\n",
      "Tipe dari variable luas: <class 'float'>\n"
     ]
    }
   ],
   "source": [
    "panjang = 5\n",
    "lebar = 10.5\n",
    "luas = panjang * lebar\n",
    "\n",
    "print(panjang, '*', lebar, '=', luas)\n",
    "print(\"Tipe dari variable panjang:\", type(panjang))\n",
    "print(\"Tipe dari variable lebar:\", type(lebar))\n",
    "print(\"Tipe dari variable luas:\", type(luas))"
   ]
  },
  {
   "cell_type": "code",
   "execution_count": 50,
   "id": "523da5aa",
   "metadata": {},
   "outputs": [
    {
     "name": "stdout",
     "output_type": "stream",
     "text": [
      "False\n",
      "True\n",
      "False\n"
     ]
    }
   ],
   "source": [
    "foo = 12 < 10\n",
    "print(foo)\n",
    "foo = 10 < 12\n",
    "print(foo)\n",
    "foo =\"A\" == \"a\"\n",
    "print(foo)"
   ]
  },
  {
   "cell_type": "code",
   "execution_count": 11,
   "id": "56f5ee5e",
   "metadata": {},
   "outputs": [
    {
     "name": "stdout",
     "output_type": "stream",
     "text": [
      "5j + 10j = 15j\n",
      "Tipe data a: <class 'complex'>\n",
      "Tipe data b: <class 'complex'>\n",
      "Tipe data c: <class 'complex'>\n"
     ]
    }
   ],
   "source": [
    "a = 5j\n",
    "b = 10j\n",
    "c = a + b\n",
    "\n",
    "print(a, '+', b, '=', c)\n",
    "print('Tipe data a:', type(a))\n",
    "print('Tipe data b:', type(b))\n",
    "print('Tipe data c:', type(c))"
   ]
  },
  {
   "cell_type": "code",
   "execution_count": 13,
   "id": "cc14e659",
   "metadata": {},
   "outputs": [
    {
     "name": "stdout",
     "output_type": "stream",
     "text": [
      "0.5 * 10 * 5 = 25.0\n"
     ]
    }
   ],
   "source": [
    "alas = 10\n",
    "tinggi = 5\n",
    "luas = 0.5 * alas * tinggi\n",
    "\n",
    "print(0.5, '*', alas, '*', tinggi, '=', luas)"
   ]
  },
  {
   "cell_type": "code",
   "execution_count": 21,
   "id": "89e2f1d6",
   "metadata": {},
   "outputs": [
    {
     "name": "stdout",
     "output_type": "stream",
     "text": [
      "2022 - 2003 = 19\n"
     ]
    }
   ],
   "source": [
    "tahun_sekarang = 2022\n",
    "tahun_lahir = 2003\n",
    "nilai_u = tahun_sekarang - tahun_lahir\n",
    "\n",
    "print(tahun_sekarang, '-', tahun_lahir, '=', nilai_u)"
   ]
  },
  {
   "cell_type": "code",
   "execution_count": 23,
   "id": "08107170",
   "metadata": {},
   "outputs": [
    {
     "name": "stdout",
     "output_type": "stream",
     "text": [
      "Bintang Rukmana (19) , dari Cicurug , kata mutiara: Hidup seperti Lary\n",
      "\n",
      "Tipe dari nama_lengkap: <class 'str'>\n",
      "Tipe dari usia: <class 'str'>\n",
      "Tipe dari alamat: <class 'str'>\n",
      "Tipe dari kata_mutiara: <class 'str'>\n"
     ]
    }
   ],
   "source": [
    "nama_depan = \"Bintang\"\n",
    "nama_belakang = 'Rukmana'\n",
    "nama_lengkap = nama_depan + ' ' + nama_belakang\n",
    "usia = '19'\n",
    "alamat = 'Cicurug'\n",
    "kata_mutiara = \"Hidup seperti Lary\"\n",
    "\n",
    "print(nama_lengkap, '(' + usia + ')', ',', 'dari', alamat, ', kata mutiara:', kata_mutiara)\n",
    "\n",
    "print('\\nTipe dari nama_lengkap:', type(nama_lengkap))\n",
    "print('Tipe dari usia:', type(usia))\n",
    "print('Tipe dari alamat:', type(alamat))\n",
    "print('Tipe dari kata_mutiara:', type(kata_mutiara))\n"
   ]
  },
  {
   "cell_type": "code",
   "execution_count": 41,
   "id": "1b0e06be",
   "metadata": {
    "scrolled": true
   },
   "outputs": [
    {
     "name": "stdout",
     "output_type": "stream",
     "text": [
      "sayasayasaya\n",
      "saya\n",
      "saya\n",
      "saya\n"
     ]
    }
   ],
   "source": [
    "print('saya' * 3)\n",
    "print('''saya''')\n",
    "print('''saya''')\n",
    "print('saya')"
   ]
  },
  {
   "cell_type": "code",
   "execution_count": 42,
   "id": "02c48820",
   "metadata": {},
   "outputs": [
    {
     "name": "stdout",
     "output_type": "stream",
     "text": [
      "Apakah saya orang Indonesia? True\n",
      "Apakah saya adalah Robot? False\n",
      "Tipe dari saya orang Indonesia? <class 'bool'>\n",
      "Tipe dari saya adalah Robot? <class 'bool'>\n"
     ]
    }
   ],
   "source": [
    "saya_orang_indonesia = True\n",
    "saya_adalah_robot = False\n",
    "\n",
    "print('Apakah saya orang Indonesia?', saya_orang_indonesia)\n",
    "print('Apakah saya adalah Robot?', saya_adalah_robot)\n",
    "print('Tipe dari saya orang Indonesia?', type(saya_orang_indonesia))\n",
    "print('Tipe dari saya adalah Robot?', type(saya_adalah_robot))"
   ]
  },
  {
   "cell_type": "code",
   "execution_count": 3,
   "id": "1c8a39f0",
   "metadata": {},
   "outputs": [
    {
     "name": "stdout",
     "output_type": "stream",
     "text": [
      "M Bintang Rukmana (TI22E) , Teknik Informatika , Quote: Sukses Bukanlah Kebetulan, Sukses Sebenarnya Adalah Pilihan\n",
      "\n",
      "Tipe dari Nama: <class 'str'>\n",
      "Tipe dari kelas: <class 'str'>\n",
      "Tipe dari Jurusan: <class 'str'>\n",
      "Tipe dari Quote: <class 'str'>\n"
     ]
    }
   ],
   "source": [
    "Nama = \"M Bintang Rukmana\"\n",
    "kelas = 'TI22E'\n",
    "Jurusan = 'Teknik Informatika'\n",
    "Quote = \"Sukses Bukanlah Kebetulan, Sukses Sebenarnya Adalah Pilihan\"\n",
    "\n",
    "print(Nama, '(' + kelas + ')', ',', Jurusan, ', Quote:', Quote)\n",
    "\n",
    "print('\\nTipe dari Nama:', type(Nama))\n",
    "print('Tipe dari kelas:', type(kelas))\n",
    "print('Tipe dari Jurusan:', type(Jurusan))\n",
    "print('Tipe dari Quote:', type(Quote))"
   ]
  }
 ],
 "metadata": {
  "kernelspec": {
   "display_name": "Python 3 (ipykernel)",
   "language": "python",
   "name": "python3"
  },
  "language_info": {
   "codemirror_mode": {
    "name": "ipython",
    "version": 3
   },
   "file_extension": ".py",
   "mimetype": "text/x-python",
   "name": "python",
   "nbconvert_exporter": "python",
   "pygments_lexer": "ipython3",
   "version": "3.9.12"
  }
 },
 "nbformat": 4,
 "nbformat_minor": 5
}
